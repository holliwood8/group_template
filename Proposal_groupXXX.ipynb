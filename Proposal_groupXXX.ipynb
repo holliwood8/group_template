{
 "cells": [
  {
   "cell_type": "markdown",
   "metadata": {},
   "source": [
    "# COGS 118B - Project Proposal"
   ]
  },
  {
   "cell_type": "markdown",
   "metadata": {},
   "source": [
    "# Project Description\n",
    "\n",
    "You will design and execute a machine learning project. There are a few constraints on the nature of the allowed project. \n",
    "- The problem addressed will not be a \"toy problem\" or \"common training students problem\" like mtcars, iris, palmer penguins etc.\n",
    "- The dataset will have >1k observations and >5 variables. I'd prefer more like >10k observations and >10 variables. A general rule is that if you have >100x more observations than variables, your solution will likely generalize a lot better. The goal of training an unsupervised machine learning model is to learn the underlying pattern in a dataset in order to generalize well to unseen data, so choosing a large dataset is very important.\n",
    "\n",
    "- The project must include some elements of unsupervised learning, but you are welcome to include some supervised or other learning approaches as well.\n",
    "- The project will include a model selection and/or feature selection component where you will be looking for the best setup to maximize the performance of your ML system.\n",
    "- You will evaluate the performance of your ML system using more than one appropriate metric\n",
    "- You will be writing a report describing and discussing these accomplishments\n",
    "\n",
    "\n",
    "Feel free to delete this description section when you hand in your proposal."
   ]
  },
  {
   "cell_type": "markdown",
   "metadata": {},
   "source": [
    "# Names\n",
    "\n",
    "Hopefully your team is at least this good. Obviously you should replace these with your names.\n",
    "\n",
    "- Olimpia Carrioli\n",
    "- Vladimir Em\n",
    "- Adolfo Valencia"
   ]
  },
  {
   "cell_type": "markdown",
   "metadata": {},
   "source": [
    "# Abstract \n",
    "This section should be short and clearly stated. It should be a single paragraph <200 words.  It should summarize: \n",
    "- what your goal/problem is\n",
    "- what the data used represents and how they are measured\n",
    "- what you will be doing with the data\n",
    "- how performance/success will be measured"
   ]
  },
  {
   "cell_type": "markdown",
   "metadata": {},
   "source": [
    "# Background"
   ]
  },
  {
   "cell_type": "markdown",
   "metadata": {},
   "source": [
    "Brain tumor segmentation is a long-standing challenge in the medical field: the development of accurate and efficient techniques to detect brain tumors from medical imaging such as MRI (magnetic resonance imaging) would make diagnosis more accessible and facilitate prompt treatment. \n",
    "\n",
    "Historically, brain tumor segmentation has been based on simple yet effective threshold techniques, where an intensity value is selected as threshold, and voxels (3-dimensional pixels) with higher intensity are marked as tumor tissue<a name=\"threshold\"></a>[<sup>[1]</sup>](#threshold).\n",
    "\n",
    "In recent years the development of neural networks has improved the accuracy of MRI tumor detection. One well-performing family of architectures are Convolutional Neural Networks, in which an MRI image is convolved with several kernels, allowing for the detection of tumor-like features and ultimately the segmentation of the tumor itself<a name=\"CNN\"></a>[<sup>[2]</sup>](#CNN). Critically, CNNs must be trained on labeled data, hence they require the manual expert segmentation of brain tumors. Given that a large dataset is essential for optimal training, the need for manually segmented images represents a drawback of this architecture.   \n",
    "\n",
    "Even more accurate brain tumor segmentation is achieved though the SOTA technique of U-NETs, developed by Olaf Ronnenberg and colleagues in 2015 for medical imaging segmentation<a name=\"U-NET\"></a>[<sup>[3]</sup>](#U-NET). U-NET architectures harness an encoding path (for downsampling, similar to a CNN) and a decoding path (for upsampling, through successive convolutions and upsampling operations) to precisely localize tumors with limited datasets, which is revolutionary for the field and a leap from traditional CNNs<a name=\"3DU-NET\"></a>[<sup>[4]</sup>](#3DU-NET)."
   ]
  },
  {
   "cell_type": "markdown",
   "metadata": {},
   "source": [
    "# Problem Statement\n",
    "\n",
    "This project is aimed at tackling the problem of automatic brain tumor semantic segmentation from medical imaging. More specifically, given a high-resolution (1x1x1mm) MRI image of the brain, we aim at identifying each and all the voxels that belong to the tumor, assigning them a label of 1 (tumor) or 0 (non-tumor). This task is relevant to machine-learning, as it involves clustering algorithms and neural-network-based solutions."
   ]
  },
  {
   "cell_type": "markdown",
   "metadata": {},
   "source": [
    "# Data \n",
    "### Dataset 1: BRATS 2018 <a name=\"BRATS1\"></a>[<sup>[5]</sup>](#BRATS1) <a name=\"BRATS2\"></a>[<sup>[6]</sup>](#BRATS2) <a name=\"BRATS3\"></a>[<sup>[7]</sup>](#BRATS3)\n",
    "- https://www.kaggle.com/datasets/harshitsinghai/miccai-brats2018-original-dataset?select=MICCAI_BraTS_2018_Data_Validation \n",
    "- This dataset contains 351 MRI brain volumes of patients with malignant high-grade glioma (HGG) and low-grade gliomas (LGG).\n",
    "- The scans are stored as NIfTI files (.nii.gz) and are presented with 4 different contrasts to enhance the tumor visibility:\n",
    "    - native (T1)\n",
    "    - post-contrast T1-weighted (T1Gd)\n",
    "    - T2-weighted (T2)\n",
    "    - T2 Fluid Attenuated Inversion Recovery (FLAIR)\n",
    "- 285 volumes have ground-truth brain-tumor segmentation done by hand and approved by neuro-radiologists, also stored in NIfTI format.\n",
    "- The volumes' resolution is 1x1x1mm.\n",
    "- The dataset includes a csv file of overall survival of each patient in days, age of patients, and resection status.\n",
    "\n",
    "### Dataset 2: BRATS 2019 <a name=\"BRATS1\"></a>[<sup>[5]</sup>](#BRATS1) <a name=\"BRATS2\"></a>[<sup>[6]</sup>](#BRATS2) <a name=\"BRATS3\"></a>[<sup>[7]</sup>](#BRATS3)\n",
    "- https://www.kaggle.com/datasets/aryashah2k/brain-tumor-segmentation-brats-2019?select=MICCAI_BraTS_2019_Data_Training \n",
    "- This dataset contains 335 MRI brain volumes of patients with malignant high-grade glioma (HGG - 259 instances) and low-grade gliomas (LGG - 76 instances).\n",
    "- The scans are stored as NIfTI files (.nii.gz) and are presented with 4 different contrasts to enhance the tumor visibility:\n",
    "    - native (T1)\n",
    "    - post-contrast T1-weighted (T1Gd)\n",
    "    - T2-weighted (T2)\n",
    "    - T2 Fluid Attenuated Inversion Recovery (FLAIR)\n",
    "- All the volumes have ground-truth brain-tumor segmentation done by hand and approved by neuro-radiologists, also stored in NIfTI format.\n",
    "- The volumes' resolution is 1x1x1mm.\n",
    "- The dataset includes a csv file of overall survival of each patient in days, age of patients, and resection status.\n",
    "\n",
    "### Dataset 3: BRATS 2020 <a name=\"BRATS1\"></a>[<sup>[5]</sup>](#BRATS1) <a name=\"BRATS2\"></a>[<sup>[6]</sup>](#BRATS2) <a name=\"BRATS3\"></a>[<sup>[7]</sup>](#BRATS3)\n",
    "- https://www.kaggle.com/datasets/awsaf49/brats2020-training-data \n",
    "- This dataset contains 494 MRI brain volumes of patients with malignant high-grade glioma (HGG) and low-grade gliomas (LGG).\n",
    "- The scans are stored as NIfTI files (.nii.gz) and are presented with 4 different contrasts to enhance the tumor visibility:\n",
    "    - native (T1)\n",
    "    - post-contrast T1-weighted (T1Gd)\n",
    "    - T2-weighted (T2)\n",
    "    - T2 Fluid Attenuated Inversion Recovery (FLAIR)\n",
    "- 369 volumes have ground-truth brain-tumor segmentation done by hand and approved by neuro-radiologists, also stored in NIfTI format.\n",
    "- The volumes' resolution is 1x1x1mm.\n",
    "- The dataset includes a csv file of overall survival of each patient in days, age of patients, and resection status.\n",
    "\n",
    "### Data handling\n",
    "- We will merge the tree datasets to obtain a total of 1180 brain volumes (989 of which have a ground-truth brain segmentation). \n",
    "- We will handle the data using the Nilearn library, an MRI-specific python package."
   ]
  },
  {
   "cell_type": "markdown",
   "metadata": {},
   "source": [
    "# Proposed Solution\n",
    "\n",
    "In this section, clearly describe a solution to the problem. The solution should be applicable to the project domain and appropriate for the dataset(s) or input(s) given. Provide enough detail (e.g., algorithmic description and/or theoretical properties) to convince us that your solution is applicable. Why might your solution work? Make sure to describe how the solution will be tested.  \n",
    "\n",
    "If you know details already, describe how (e.g., library used, function calls) you plan to implement the solution in a way that is reproducible.\n",
    "\n",
    "If it is appropriate to the problem statement, describe a benchmark model<a name=\"sota\"></a>[<sup>[3]</sup>](#sotanote) against which your solution will be compared. "
   ]
  },
  {
   "cell_type": "markdown",
   "metadata": {},
   "source": [
    "# Evaluation Metrics\n",
    "\n",
    "Propose at least one evaluation metric that can be used to quantify the performance of both the benchmark model and the solution model. The evaluation metric(s) you propose should be appropriate given the context of the data, the problem statement, and the intended solution. Describe how the evaluation metric(s) are derived and provide an example of their mathematical representations (if applicable). Complex evaluation metrics should be clearly defined and quantifiable (can be expressed in mathematical or logical terms)."
   ]
  },
  {
   "cell_type": "markdown",
   "metadata": {},
   "source": [
    "# Ethics & Privacy"
   ]
  },
  {
   "cell_type": "markdown",
   "metadata": {},
   "source": [
    "If your project has obvious potential concerns with ethics or data privacy discuss that here.  Almost every ML project put into production can have ethical implications if you use your imagination. Use your imagination. Get creative!\n",
    "\n",
    "Even if you can't come up with an obvious ethical concern that should be addressed, you should know that a large number of ML projects that go into producation have unintended consequences and ethical problems once in production. How will your team address these issues?\n",
    "\n",
    "Consider a tool to help you address the potential issues such as https://deon.drivendata.org"
   ]
  },
  {
   "cell_type": "markdown",
   "metadata": {},
   "source": [
    "# Team Expectations "
   ]
  },
  {
   "cell_type": "markdown",
   "metadata": {},
   "source": [
    "Put things here that cement how you will interact/communicate as a team, how you will handle conflict and difficulty, how you will handle making decisions and setting goals/schedule, how much work you expect from each other, how you will handle deadlines, etc...\n",
    "* *Team Expectation 1*\n",
    "* *Team Expectation 2*\n",
    "* *Team Expecation 3*\n",
    "* ..."
   ]
  },
  {
   "cell_type": "markdown",
   "metadata": {},
   "source": [
    "# Project Timeline Proposal"
   ]
  },
  {
   "cell_type": "markdown",
   "metadata": {},
   "source": [
    "Replace this with something meaningful that is appropriate for your needs. It doesn't have to be something that fits this format.  It doesn't have to be set in stone... \"no battle plan survives contact with the enemy\". But you need a battle plan nonetheless, and you need to keep it updated so you understand what you are trying to accomplish, who's responsible for what, and what the expected due dates are for each item.\n",
    "\n",
    "| Meeting Date  | Meeting Time| Completed Before Meeting  | Discuss at Meeting |\n",
    "|---|---|---|---|\n",
    "| 1/20  |  1 PM |  Brainstorm topics/questions (all)  | Determine best form of communication; Discuss and decide on final project topic; discuss hypothesis; begin background research | \n",
    "| 1/26  |  10 AM |  Do background research on topic (Pelé) | Discuss ideal dataset(s) and ethics; draft project proposal | \n",
    "| 2/1  | 10 AM  | Edit, finalize, and submit proposal; Search for datasets (Beckenbaur)  | Discuss Wrangling and possible analytical approaches; Assign group members to lead each specific part   |\n",
    "| 2/14  | 6 PM  | Import & Wrangle Data ,do some EDA (Maradonna) | Review/Edit wrangling/EDA; Discuss Analysis Plan   |\n",
    "| 2/23  | 12 PM  | Finalize wrangling/EDA; Begin programming for project (Cruyff) | Discuss/edit project code; Complete project |\n",
    "| 3/13  | 12 PM  | Complete analysis; Draft results/conclusion/discussion (Carlos)| Discuss/edit full project |\n",
    "| 3/19  | Before 11:59 PM  | NA | Turn in Final Project  |"
   ]
  },
  {
   "cell_type": "markdown",
   "metadata": {},
   "source": [
    "# Footnotes\n",
    "<a name=\"treshold\"></a>1.[^](#threshold): P. Natarajan, et al. (2012) \"Tumor detection using threshold operation in MRI brain images,\" IEEE International Conference on Computational Intelligence and Computing Research, Coimbatore, India, pp. 1-4, [doi: 10.1109/ICCIC.2012.6510299](https://ieeexplore.ieee.org/document/6510299/metrics#metrics)<br> \n",
    "<a name=\"CNN\"></a>2.[^](#CNN): Bhandari, A., et al. (2020) \"Convolutional neural networks for brain tumour segmentation,\" Insights Imaging pp. 11-77 https://doi.org/10.1186/s13244-020-00869-4  \n",
    "<a name=\"U-NET\"></a>3.[^](#U-NET): Ronneberger, Olaf, et. al (2015) \"U-Net: Convolutional Networks for Biomedical Image Segmentation\", arXiv, https://doi.org/10.48550/arXiv.1505.04597  \n",
    "<a name=\"3DU-NET\"></a>4.[^](#3DU-NET): Çiçek, Özgün, et. al (2016) \"3D U-Net: Learning Dense Volumetric Segmentation from Sparse Annotation\", aeXiv, https://arxiv.org/abs/1606.06650 \n",
    "<a name=\"BRATS1\"></a>5.[^](#BRATS1): B. H. Menze, A. Jakab, S. Bauer, J. Kalpathy-Cramer, K. Farahani, J. Kirby, et al. \"The Multimodal Brain Tumor Image Segmentation Benchmark (BRATS)\", IEEE Transactions on Medical Imaging 34(10), 1993-2024 (2015) DOI: 10.1109/TMI.2014.2377694  \n",
    "<a name=\"BRATS2\"></a>6.[^](#BRATS2): S. Bakas, H. Akbari, A. Sotiras, M. Bilello, M. Rozycki, J.S. Kirby, et al., \"Advancing The Cancer Genome Atlas glioma MRI collections with expert segmentation labels and radiomic features\", Nature Scientific Data, 4:170117 (2017) DOI: 10.1038/sdata.2017.117  \n",
    "<a name=\"BRATS3\"></a>7.[^](#BRATS3): S. Bakas, M. Reyes, A. Jakab, S. Bauer, M. Rempfler, A. Crimi, et al., \"Identifying the Best Machine Learning Algorithms for Brain Tumor Segmentation, Progression Assessment, and Overall Survival Prediction in the BRATS Challenge\", arXiv preprint arXiv:1811.02629 (2018)\n",
    "\n",
    "\n",
    "\n",
    "<a name=\"admonishnote\"></a>3.[^](#admonish): Also refs should be important to the background, not some randomly chosen vaguely related stuff. Include a web link if possible in refs as above.<br>\n",
    "<a name=\"sotanote\"></a>3.[^](#sota): Perhaps the current state of the art solution such as you see on [Papers with code](https://paperswithcode.com/sota). Or maybe not SOTA, but rather a standard textbook/Kaggle solution to this kind of problem\n"
   ]
  },
  {
   "cell_type": "code",
   "execution_count": null,
   "metadata": {},
   "outputs": [],
   "source": []
  },
  {
   "cell_type": "code",
   "execution_count": null,
   "metadata": {},
   "outputs": [],
   "source": []
  }
 ],
 "metadata": {
  "kernelspec": {
   "display_name": "Python 3 (ipykernel)",
   "language": "python",
   "name": "python3"
  },
  "language_info": {
   "codemirror_mode": {
    "name": "ipython",
    "version": 3
   },
   "file_extension": ".py",
   "mimetype": "text/x-python",
   "name": "python",
   "nbconvert_exporter": "python",
   "pygments_lexer": "ipython3",
   "version": "3.10.0"
  }
 },
 "nbformat": 4,
 "nbformat_minor": 2
}
